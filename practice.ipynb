{
  "nbformat": 4,
  "nbformat_minor": 0,
  "metadata": {
    "colab": {
      "provenance": [],
      "authorship_tag": "ABX9TyMPPUKwCHc7PPq/HXGyKrpX",
      "include_colab_link": true
    },
    "kernelspec": {
      "name": "python3",
      "display_name": "Python 3"
    },
    "language_info": {
      "name": "python"
    }
  },
  "cells": [
    {
      "cell_type": "markdown",
      "metadata": {
        "id": "view-in-github",
        "colab_type": "text"
      },
      "source": [
        "<a href=\"https://colab.research.google.com/github/dipteshnath/Code/blob/master/practice.ipynb\" target=\"_parent\"><img src=\"https://colab.research.google.com/assets/colab-badge.svg\" alt=\"Open In Colab\"/></a>"
      ]
    },
    {
      "cell_type": "code",
      "source": [
        "class Node:\n",
        "  def __init__(self,data) -> None:\n",
        "    self.data=data\n",
        "    self.next=None\n"
      ],
      "metadata": {
        "id": "PABW5yidXPAp"
      },
      "execution_count": 1,
      "outputs": []
    },
    {
      "cell_type": "code",
      "execution_count": 2,
      "metadata": {
        "id": "Bqm_PweJW8g7"
      },
      "outputs": [],
      "source": [
        "class LinkedList:\n",
        "  def __init__(self):\n",
        "    self.head=None\n",
        "  def append(self,data):\n",
        "    new_node=Node(data)\n",
        "    if self.head is None:\n",
        "      self.head=new_node\n",
        "      return\n",
        "    last_node=self.head\n",
        "    while last_node.next:\n",
        "      last_node=last_node.next\n",
        "    last_node.next=new_node\n",
        "\n",
        "  def prepend(self,data):\n",
        "    new_node=Node(data)\n",
        "    new_node.next=self.head\n",
        "    self.head=new_node\n",
        "\n",
        "  def print_list(self):\n",
        "    cur_node=self.head\n",
        "    while cur_node:\n",
        "      print(cur_node.data)\n",
        "      cur_node=cur_node.next\n"
      ]
    },
    {
      "cell_type": "code",
      "source": [
        "llist=LinkedList()\n",
        "llist.append(\"A\")\n",
        "llist.append(\"B\")\n",
        "llist.append(\"C\")\n",
        "llist.print_list()"
      ],
      "metadata": {
        "colab": {
          "base_uri": "https://localhost:8080/"
        },
        "id": "ioqRPjKvYGMi",
        "outputId": "86fa4fec-e55c-46a4-d92f-ab5b022eef6d"
      },
      "execution_count": 3,
      "outputs": [
        {
          "output_type": "stream",
          "name": "stdout",
          "text": [
            "A\n",
            "B\n",
            "C\n"
          ]
        }
      ]
    },
    {
      "cell_type": "code",
      "source": [],
      "metadata": {
        "id": "SoDDPLrhbQWA"
      },
      "execution_count": null,
      "outputs": []
    }
  ]
}