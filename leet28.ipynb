{
  "nbformat": 4,
  "nbformat_minor": 0,
  "metadata": {
    "colab": {
      "name": "leet28.ipynb",
      "version": "0.3.2",
      "provenance": [],
      "include_colab_link": true
    },
    "kernelspec": {
      "name": "python3",
      "display_name": "Python 3"
    }
  },
  "cells": [
    {
      "cell_type": "markdown",
      "metadata": {
        "id": "view-in-github",
        "colab_type": "text"
      },
      "source": [
        "<a href=\"https://colab.research.google.com/github/dipteshnath/Code/blob/master/leet28.ipynb\" target=\"_parent\"><img src=\"https://colab.research.google.com/assets/colab-badge.svg\" alt=\"Open In Colab\"/></a>"
      ]
    },
    {
      "metadata": {
        "id": "uPlJBCoceZo6",
        "colab_type": "code",
        "outputId": "d3f3bad8-e15f-442a-9918-0f298926bd58",
        "colab": {
          "base_uri": "https://localhost:8080/",
          "height": 34
        }
      },
      "cell_type": "code",
      "source": [
        "haystack=\"hello\"\n",
        "needle=\"ll\"\n",
        "haystack.find(needle)"
      ],
      "execution_count": 0,
      "outputs": [
        {
          "output_type": "execute_result",
          "data": {
            "text/plain": [
              "2"
            ]
          },
          "metadata": {
            "tags": []
          },
          "execution_count": 3
        }
      ]
    },
    {
      "metadata": {
        "id": "l7A8Rf2oe03G",
        "colab_type": "code",
        "colab": {}
      },
      "cell_type": "code",
      "source": [
        "def strStr(haystack,needle):\n",
        "  for i in range(len(haystack)-len(needle)+1):\n",
        "    if (haystack[i:i+len(needle)]==needle):\n",
        "      return (i)\n",
        "  return (-1)"
      ],
      "execution_count": 0,
      "outputs": []
    },
    {
      "metadata": {
        "id": "IqSpct6Mg-dS",
        "colab_type": "code",
        "outputId": "62d5a5d4-e459-44b9-fbc0-7344b7d20708",
        "colab": {
          "base_uri": "https://localhost:8080/",
          "height": 34
        }
      },
      "cell_type": "code",
      "source": [
        "strStr(haystack,needle)"
      ],
      "execution_count": 0,
      "outputs": [
        {
          "output_type": "execute_result",
          "data": {
            "text/plain": [
              "2"
            ]
          },
          "metadata": {
            "tags": []
          },
          "execution_count": 5
        }
      ]
    },
    {
      "metadata": {
        "id": "7Cya16SuhC3B",
        "colab_type": "code",
        "colab": {}
      },
      "cell_type": "code",
      "source": [
        "def strStr(haystack,needle):\n",
        "  if not needle:\n",
        "    return (false)\n",
        "  for i in range(len(haystack)-len(needle)+1):\n",
        "    if haystack[i]==needle[0]:\n",
        "      j=1\n",
        "      while (j<len(needle) and haystack[i+j]==needle[j]):\n",
        "        j+=1\n",
        "      if (j==len(needle)):\n",
        "        return(i)\n",
        "  return(-1) "
      ],
      "execution_count": 0,
      "outputs": []
    },
    {
      "metadata": {
        "id": "0dECfJR5h-s_",
        "colab_type": "code",
        "outputId": "f347023a-0cd1-4480-833d-c6ec5fb7409b",
        "colab": {
          "base_uri": "https://localhost:8080/",
          "height": 34
        }
      },
      "cell_type": "code",
      "source": [
        "strStr(haystack,needle)"
      ],
      "execution_count": 0,
      "outputs": [
        {
          "output_type": "execute_result",
          "data": {
            "text/plain": [
              "2"
            ]
          },
          "metadata": {
            "tags": []
          },
          "execution_count": 11
        }
      ]
    },
    {
      "metadata": {
        "id": "i-o8g6iriAb6",
        "colab_type": "code",
        "colab": {}
      },
      "cell_type": "code",
      "source": [
        ""
      ],
      "execution_count": 0,
      "outputs": []
    }
  ]
}