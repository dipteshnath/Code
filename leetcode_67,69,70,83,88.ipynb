{
  "nbformat": 4,
  "nbformat_minor": 0,
  "metadata": {
    "colab": {
      "name": "leetcode 67,69,70,83,88.ipynb",
      "version": "0.3.2",
      "provenance": [],
      "include_colab_link": true
    },
    "kernelspec": {
      "name": "python3",
      "display_name": "Python 3"
    }
  },
  "cells": [
    {
      "cell_type": "markdown",
      "metadata": {
        "id": "view-in-github",
        "colab_type": "text"
      },
      "source": [
        "<a href=\"https://colab.research.google.com/github/dipteshnath/Code/blob/master/leetcode_67%2C69%2C70%2C83%2C88.ipynb\" target=\"_parent\"><img src=\"https://colab.research.google.com/assets/colab-badge.svg\" alt=\"Open In Colab\"/></a>"
      ]
    },
    {
      "metadata": {
        "id": "R2rbrLvvmceB",
        "colab_type": "code",
        "colab": {}
      },
      "cell_type": "code",
      "source": [
        "#leetcode 67 69 70 83 88"
      ],
      "execution_count": 0,
      "outputs": []
    },
    {
      "metadata": {
        "id": "3zrIM1aQvzs3",
        "colab_type": "code",
        "colab": {}
      },
      "cell_type": "code",
      "source": [
        "88 Merge Sorted Array"
      ],
      "execution_count": 0,
      "outputs": []
    },
    {
      "metadata": {
        "id": "DZwnCQpIn9Wd",
        "colab_type": "code",
        "colab": {}
      },
      "cell_type": "code",
      "source": [
        "def merge(num1,m,num2,n):\n",
        "  p,q,k=m-1,n-1,m+n-1\n",
        "  while(p>=0 and q>=0):\n",
        "    if (num1[p]>num2[q]):\n",
        "      num1[k]=num1[p]\n",
        "      p=p-1\n",
        "      k=k-1\n",
        "    else:\n",
        "      num1[k]=num2[q]\n",
        "      q=q-1\n",
        "      k=k-1\n",
        "  num1[:q+1]=num2[:q+1]\n",
        "  print(num2[:q+1])\n",
        "  return(num1)\n",
        " "
      ],
      "execution_count": 0,
      "outputs": []
    },
    {
      "metadata": {
        "id": "AG5zNlFDsa7b",
        "colab_type": "code",
        "colab": {
          "base_uri": "https://localhost:8080/",
          "height": 51
        },
        "outputId": "a2c56590-0075-4182-b0d4-5890b4a4caed"
      },
      "cell_type": "code",
      "source": [
        "print(merge([1,2,3,0,0,0],3,[2,5,6],3))"
      ],
      "execution_count": 21,
      "outputs": [
        {
          "output_type": "stream",
          "text": [
            "[]\n",
            "[1, 2, 2, 3, 5, 6]\n"
          ],
          "name": "stdout"
        }
      ]
    },
    {
      "metadata": {
        "id": "u4mrU_63tiCa",
        "colab_type": "code",
        "colab": {}
      },
      "cell_type": "code",
      "source": [
        "def merge1(num1,m,num2,n):\n",
        "  p,q=m-1,n-1\n",
        "  while (p>=0 and q>=0):\n",
        "    if (num1[p]>num2[q]):\n",
        "      num1[p+q+1]=num1[p]\n",
        "      p=p-1\n",
        "    else:\n",
        "      num1[p+q+1]=num2[q]\n",
        "      q=q-1\n",
        "    num1[:q+1]=num2[:q+1]  \n",
        "    return(num1)"
      ],
      "execution_count": 0,
      "outputs": []
    },
    {
      "metadata": {
        "id": "fb5mgUK2yYOs",
        "colab_type": "code",
        "colab": {
          "base_uri": "https://localhost:8080/",
          "height": 34
        },
        "outputId": "edb75caa-2c64-4e79-8dda-cf6b06d3d75a"
      },
      "cell_type": "code",
      "source": [
        "print(merge1([1,2,3,0,0,0],3,[2,5,6],3))"
      ],
      "execution_count": 28,
      "outputs": [
        {
          "output_type": "stream",
          "text": [
            "[2, 5, 3, 0, 0, 6]\n"
          ],
          "name": "stdout"
        }
      ]
    },
    {
      "metadata": {
        "id": "yPzc-Q0myaj9",
        "colab_type": "code",
        "colab": {}
      },
      "cell_type": "code",
      "source": [
        "#83 Merge Sorted Array"
      ],
      "execution_count": 0,
      "outputs": []
    },
    {
      "metadata": {
        "id": "_bv9BIcly2Ow",
        "colab_type": "code",
        "colab": {}
      },
      "cell_type": "code",
      "source": [
        "\n",
        "def deleteDuplicates(head):\n",
        "  p=head\n",
        "  while p:\n",
        "    if p.next and p.next.val==p.val:\n",
        "      p.next=p.next.next\n",
        "    else:\n",
        "      p=p.next\n",
        "  return(head)"
      ],
      "execution_count": 0,
      "outputs": []
    },
    {
      "metadata": {
        "id": "fmMIGf6E13KN",
        "colab_type": "code",
        "colab": {}
      },
      "cell_type": "code",
      "source": [
        "#70 Climb stairs"
      ],
      "execution_count": 0,
      "outputs": []
    },
    {
      "metadata": {
        "id": "6cZCg_sj30pT",
        "colab_type": "code",
        "colab": {}
      },
      "cell_type": "code",
      "source": [
        "def climbstairs(n):\n",
        "  prev=cur=1\n",
        "  for i in range(1,n):\n",
        "    prev,cur=cur,cur+prev\n",
        "  return(cur)"
      ],
      "execution_count": 0,
      "outputs": []
    },
    {
      "metadata": {
        "id": "COI2Xmji4m6G",
        "colab_type": "code",
        "colab": {
          "base_uri": "https://localhost:8080/",
          "height": 34
        },
        "outputId": "86782920-d390-4513-96b2-8f308469438b"
      },
      "cell_type": "code",
      "source": [
        "climbstairs(4)"
      ],
      "execution_count": 40,
      "outputs": [
        {
          "output_type": "execute_result",
          "data": {
            "text/plain": [
              "5"
            ]
          },
          "metadata": {
            "tags": []
          },
          "execution_count": 40
        }
      ]
    },
    {
      "metadata": {
        "id": "B9lFxZY24psV",
        "colab_type": "code",
        "colab": {}
      },
      "cell_type": "code",
      "source": [
        "# 69 Sqrt(x)"
      ],
      "execution_count": 0,
      "outputs": []
    },
    {
      "metadata": {
        "id": "6hEWhuV-5dyK",
        "colab_type": "code",
        "colab": {}
      },
      "cell_type": "code",
      "source": [
        "def mySqrt(x):\n",
        "  if (x==0 or x==1):\n",
        "    return(x)\n",
        "  i=0\n",
        "  j=x\n",
        "  mid=0\n",
        "  while True:\n",
        "    mid=(i+j)/2\n",
        "    if mid>x/mid:\n",
        "      j=mid\n",
        "    else:\n",
        "      if (mid+1)>x/(mid+1):\n",
        "        return(mid)\n",
        "    i=mid\n",
        "    "
      ],
      "execution_count": 0,
      "outputs": []
    },
    {
      "metadata": {
        "id": "upRXS6qH9tMX",
        "colab_type": "code",
        "colab": {
          "base_uri": "https://localhost:8080/",
          "height": 34
        },
        "outputId": "e163a812-ae22-48c4-a2a7-0a84b5d782c9"
      },
      "cell_type": "code",
      "source": [
        "#67 Add binary\n",
        "a=bin(2)\n",
        "a[2:]"
      ],
      "execution_count": 49,
      "outputs": [
        {
          "output_type": "execute_result",
          "data": {
            "text/plain": [
              "'10'"
            ]
          },
          "metadata": {
            "tags": []
          },
          "execution_count": 49
        }
      ]
    },
    {
      "metadata": {
        "id": "dU9mtwzc9wvo",
        "colab_type": "code",
        "colab": {
          "base_uri": "https://localhost:8080/",
          "height": 34
        },
        "outputId": "6002536a-8452-4118-880e-40cfcb46ac9e"
      },
      "cell_type": "code",
      "source": [
        "a=int(a,2)\n",
        "a"
      ],
      "execution_count": 47,
      "outputs": [
        {
          "output_type": "execute_result",
          "data": {
            "text/plain": [
              "2"
            ]
          },
          "metadata": {
            "tags": []
          },
          "execution_count": 47
        }
      ]
    },
    {
      "metadata": {
        "id": "FG1mbWC59zy2",
        "colab_type": "code",
        "colab": {}
      },
      "cell_type": "code",
      "source": [
        "def addbinary(a,b):\n",
        "  return(bin(int(a,2)+int(b,2))[2:])"
      ],
      "execution_count": 0,
      "outputs": []
    },
    {
      "metadata": {
        "id": "Ud1rbCRG-Y8-",
        "colab_type": "code",
        "colab": {
          "base_uri": "https://localhost:8080/",
          "height": 34
        },
        "outputId": "6684a356-5520-4594-a172-fca372c4d8c2"
      },
      "cell_type": "code",
      "source": [
        "addbinary('1','10')"
      ],
      "execution_count": 55,
      "outputs": [
        {
          "output_type": "execute_result",
          "data": {
            "text/plain": [
              "'11'"
            ]
          },
          "metadata": {
            "tags": []
          },
          "execution_count": 55
        }
      ]
    },
    {
      "metadata": {
        "id": "DIbWpOk5-dR6",
        "colab_type": "code",
        "colab": {}
      },
      "cell_type": "code",
      "source": [
        ""
      ],
      "execution_count": 0,
      "outputs": []
    } 
  ]  
}
